{
 "cells": [
  {
   "cell_type": "code",
   "execution_count": null,
   "id": "07e1b985",
   "metadata": {},
   "outputs": [],
   "source": [
    "from typing import cast\n",
    "\n",
    "from qonscious.adapters.aer_sampler_adapter import AerSamplerAdapter\n",
    "from qonscious.adapters.backend_adapter import BackendAdapter\n",
    "from qonscious.core import MeritComplianceCheck, ScorableFigureOfMeritResult\n",
    "from qonscious.core.executor import run_conditionally\n",
    "from qonscious.foms.packed_chsh import PackedCHSHTest"
   ]
  },
  {
   "cell_type": "code",
   "execution_count": null,
   "id": "87ddf4b4",
   "metadata": {},
   "outputs": [],
   "source": [
    "def chsh_score_over(threshold: float):\n",
    "    return lambda r: cast(\"ScorableFigureOfMeritResult\", r)[\"score\"] > threshold\n",
    "\n",
    "check_chsh_is_ok = check = MeritComplianceCheck(\n",
    "    figure_of_merit=PackedCHSHTest(),\n",
    "    decision_function=chsh_score_over(2.8), # In the Aer simulator we can get up to 2.828\n",
    ")"
   ]
  },
  {
   "cell_type": "code",
   "execution_count": null,
   "id": "39d80b1e",
   "metadata": {},
   "outputs": [],
   "source": [
    "# Neither the on_pass nor the on_fail callbacks run any circuits, they just print the result\n",
    "# of the figure of merit checks\n",
    "\n",
    "def on_pass(backendAdapter : BackendAdapter, figureOfMeritResults):\n",
    "    firstFoMResult = cast(\"ScorableFigureOfMeritResult\",figureOfMeritResults[0])\n",
    "    print(\"CHSH test passed!\")\n",
    "    print(f\"Score: {firstFoMResult['score']:.3f}\")\n",
    "    return None\n",
    "\n",
    "def on_fail(backendAdapter : BackendAdapter, figureOfMeritResults):\n",
    "    firstFoMResult = cast(\"ScorableFigureOfMeritResult\",figureOfMeritResults[0])\n",
    "    print(\"CHSH test failed!\")\n",
    "    print(f\"Score: {firstFoMResult['score']:.3f}\")\n",
    "    return None"
   ]
  },
  {
   "cell_type": "code",
   "execution_count": null,
   "id": "0ee19de2",
   "metadata": {},
   "outputs": [],
   "source": [
    "backend = AerSamplerAdapter()\n",
    "\n",
    "print(\"Running CHSH test with passing threshold...\\n\")\n",
    "run_conditionally(\n",
    "    backend_adapter=backend,\n",
    "    checks= [check_chsh_is_ok],\n",
    "    on_pass=on_pass,\n",
    "    on_fail=on_fail,\n",
    "    shots=2048\n",
    ")"
   ]
  },
  {
   "cell_type": "code",
   "execution_count": null,
   "id": "7af86735",
   "metadata": {},
   "outputs": [],
   "source": []
  }
 ],
 "metadata": {
  "kernelspec": {
   "display_name": ".venv",
   "language": "python",
   "name": "python3"
  },
  "language_info": {
   "codemirror_mode": {
    "name": "ipython",
    "version": 3
   },
   "file_extension": ".py",
   "mimetype": "text/x-python",
   "name": "python",
   "nbconvert_exporter": "python",
   "pygments_lexer": "ipython3",
   "version": "3.9.6"
  }
 },
 "nbformat": 4,
 "nbformat_minor": 5
}
